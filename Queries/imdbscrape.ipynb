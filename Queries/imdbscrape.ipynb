{
 "cells": [
  {
   "cell_type": "code",
   "execution_count": 67,
   "metadata": {},
   "outputs": [],
   "source": [
    "from bs4 import BeautifulSoup as bs\n",
    "import requests\n",
    "import pandas as pd\n",
    "\n",
    "# Visit imdb full-cast page for seinfeld\n",
    "url = \"https://www.imdb.com/title/tt0098904/fullcredits/?ref_=tt_cl_sm\"\n",
    "response = requests.get(url)\n",
    "\n",
    "#create the soup\n",
    "soup = bs(response.text,\"html.parser\")\n",
    "\n",
    "#isolate the places where the correct info can be found\n",
    "actresults = soup.find_all('td', class_='primary_photo')\n",
    "charresults = soup.find_all('td',class_='character')\n",
    "\n",
    "#create empty lists to populate\n",
    "actors = []\n",
    "characters = []\n",
    "\n",
    "#crate a dictionary of lists to create the dataframe from\n",
    "table_dict ={\n",
    "    \"Actor\":actors,\n",
    "    \"Character\":characters\n",
    "}\n",
    "\n",
    "for actresult in actresults:\n",
    "    actor = actresult.find('img')\n",
    "    actors.append(actor.attrs['title'])\n",
    "\n",
    "for charresult in charresults:\n",
    "    character = charresult.find('a').contents[0]\n",
    "    characters.append(character)   \n",
    "\n",
    "df = pd.DataFrame(table_dict)\n",
    "df.set_index('Actor',inplace=True)\n",
    "\n",
    "df.to_csv('actor_character.csv')"
   ]
  },
  {
   "cell_type": "code",
   "execution_count": null,
   "metadata": {},
   "outputs": [],
   "source": []
  }
 ],
 "metadata": {
  "kernelspec": {
   "display_name": "Python [conda env:.conda-PythonData] *",
   "language": "python",
   "name": "conda-env-.conda-PythonData-py"
  },
  "language_info": {
   "codemirror_mode": {
    "name": "ipython",
    "version": 3
   },
   "file_extension": ".py",
   "mimetype": "text/x-python",
   "name": "python",
   "nbconvert_exporter": "python",
   "pygments_lexer": "ipython3",
   "version": "3.8.5"
  }
 },
 "nbformat": 4,
 "nbformat_minor": 4
}
