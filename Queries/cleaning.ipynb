{
 "cells": [
  {
   "cell_type": "code",
   "execution_count": 68,
   "metadata": {},
   "outputs": [],
   "source": [
    "import pandas as pd\n",
    "import re"
   ]
  },
  {
   "cell_type": "code",
   "execution_count": 69,
   "metadata": {
    "scrolled": true
   },
   "outputs": [
    {
     "data": {
      "text/html": [
       "<div>\n",
       "<style scoped>\n",
       "    .dataframe tbody tr th:only-of-type {\n",
       "        vertical-align: middle;\n",
       "    }\n",
       "\n",
       "    .dataframe tbody tr th {\n",
       "        vertical-align: top;\n",
       "    }\n",
       "\n",
       "    .dataframe thead th {\n",
       "        text-align: right;\n",
       "    }\n",
       "</style>\n",
       "<table border=\"1\" class=\"dataframe\">\n",
       "  <thead>\n",
       "    <tr style=\"text-align: right;\">\n",
       "      <th></th>\n",
       "      <th>Character</th>\n",
       "      <th>Dialogue</th>\n",
       "      <th>EpisodeNo</th>\n",
       "      <th>SEID</th>\n",
       "      <th>Season</th>\n",
       "    </tr>\n",
       "  </thead>\n",
       "  <tbody>\n",
       "    <tr>\n",
       "      <th>0</th>\n",
       "      <td>JERRY</td>\n",
       "      <td>Do you know what this is all about? Do you kno...</td>\n",
       "      <td>1</td>\n",
       "      <td>PILOT</td>\n",
       "      <td>1</td>\n",
       "    </tr>\n",
       "    <tr>\n",
       "      <th>1</th>\n",
       "      <td>JERRY</td>\n",
       "      <td>(pointing at Georges shirt) See, to me, that b...</td>\n",
       "      <td>1</td>\n",
       "      <td>PILOT</td>\n",
       "      <td>1</td>\n",
       "    </tr>\n",
       "    <tr>\n",
       "      <th>2</th>\n",
       "      <td>GEORGE</td>\n",
       "      <td>Are you through?</td>\n",
       "      <td>1</td>\n",
       "      <td>PILOT</td>\n",
       "      <td>1</td>\n",
       "    </tr>\n",
       "    <tr>\n",
       "      <th>3</th>\n",
       "      <td>JERRY</td>\n",
       "      <td>You do of course try on, when you buy?</td>\n",
       "      <td>1</td>\n",
       "      <td>PILOT</td>\n",
       "      <td>1</td>\n",
       "    </tr>\n",
       "    <tr>\n",
       "      <th>4</th>\n",
       "      <td>GEORGE</td>\n",
       "      <td>Yes, it was purple, I liked it, I dont actuall...</td>\n",
       "      <td>1</td>\n",
       "      <td>PILOT</td>\n",
       "      <td>1</td>\n",
       "    </tr>\n",
       "  </tbody>\n",
       "</table>\n",
       "</div>"
      ],
      "text/plain": [
       "  Character                                           Dialogue  EpisodeNo  \\\n",
       "0     JERRY  Do you know what this is all about? Do you kno...          1   \n",
       "1     JERRY  (pointing at Georges shirt) See, to me, that b...          1   \n",
       "2    GEORGE                                   Are you through?          1   \n",
       "3     JERRY             You do of course try on, when you buy?          1   \n",
       "4    GEORGE  Yes, it was purple, I liked it, I dont actuall...          1   \n",
       "\n",
       "    SEID  Season  \n",
       "0  PILOT       1  \n",
       "1  PILOT       1  \n",
       "2  PILOT       1  \n",
       "3  PILOT       1  \n",
       "4  PILOT       1  "
      ]
     },
     "execution_count": 69,
     "metadata": {},
     "output_type": "execute_result"
    }
   ],
   "source": [
    "script_df = pd.read_csv('scripts.csv',index_col=[0],encoding='utf-8')"
   ]
  },
  {
   "cell_type": "code",
   "execution_count": 70,
   "metadata": {
    "scrolled": true
   },
   "outputs": [],
   "source": [
    "Character = []\n",
    "Dialogue = []\n",
    "EpisodeNo = []\n",
    "SEID = []\n",
    "Season = []\n",
    "\n",
    "\n",
    "for character in script_df['Character']:\n",
    "    Character.append(character)\n",
    "for dialogue in script_df['Dialogue']:\n",
    "    Dialogue.append(dialogue)\n",
    "for episodeno in script_df['EpisodeNo']:\n",
    "    EpisodeNo.append(episodeno)\n",
    "for seid in script_df['SEID']:\n",
    "    SEID.append(seid)\n",
    "for season in script_df['Season']:\n",
    "    Season.append(season)"
   ]
  },
  {
   "cell_type": "code",
   "execution_count": 72,
   "metadata": {
    "scrolled": true
   },
   "outputs": [],
   "source": [
    "#remove data containing ('% ','[') or beginning with '('\n",
    "#remove spaces in rows with ('MR. ','MRS. ',' #','DR. ','UNCLE ','AUNT ')\n",
    "#split on the space keeping first half in rows with ('(','&',',') and no \"'s \"\n",
    "#remove data with lowercase letters\n",
    "script_names = []\n",
    "\n",
    "for character in Character:\n",
    "    \n",
    "    if r'%' in character:\n",
    "        script_names.append('')\n",
    "        \n",
    "    elif re.findall(\"^[[]\",character):\n",
    "        script_names.append('')\n",
    "    \n",
    "    elif re.findall(\"^[(]\",character):\n",
    "        script_names.append('')\n",
    "    \n",
    "    elif '/' in character:\n",
    "        script_names.append(character.split('/')[0])\n",
    "    \n",
    "    elif ' #' in character:\n",
    "        script_names.append(character.replace(' #','#'))\n",
    "    \n",
    "    elif 'LT. ' in character:\n",
    "        script_names.append(character.replace('LT. ',''))\n",
    "    \n",
    "    elif 'MRS ' in character:\n",
    "        script_names.append(character.replace('MRS ',''))\n",
    "    \n",
    "    elif 'MR ' in character:\n",
    "        script_names.append(character.replace('MR ',''))\n",
    "    \n",
    "    elif 'MR. ' in character:\n",
    "        script_names.append(character.replace('MR. ',''))\n",
    "        \n",
    "    elif 'MRS. ' in character:\n",
    "        script_names.append(character.replace('MRS. ',''))    \n",
    "    \n",
    "    elif 'AUNT ' in character:\n",
    "        script_names.append(character.replace('AUNT ',''))\n",
    "    \n",
    "    elif 'UNCLE ' in character:\n",
    "        script_names.append(character.replace('UNCLE ',''))\n",
    "    \n",
    "    elif 'DR. ' in character:\n",
    "        script_names.append(character.replace('DR. ',''))\n",
    "    \n",
    "    elif ',' in character:\n",
    "        script_names.append(character.split(\",\")[0])\n",
    "        \n",
    "    elif r'(' in character:\n",
    "        script_names.append(character.split('(')[0])\n",
    "    \n",
    "    elif \"'S\" in character:\n",
    "        script_names.append(character)\n",
    "    \n",
    "    else:\n",
    "        script_names.append(character.split(' ')[0])"
   ]
  },
  {
   "cell_type": "code",
   "execution_count": 73,
   "metadata": {},
   "outputs": [],
   "source": [
    "#repeat to cull more unclear names\n",
    "script_names2 = script_names\n",
    "script_names = []\n",
    "for character in script_names2:\n",
    "    \n",
    "    if r'%' in character:\n",
    "        script_names.append('')\n",
    "        \n",
    "    elif re.findall(\"^[[]\",character):\n",
    "        script_names.append('')\n",
    "    \n",
    "    elif re.findall(\"^[(]\",character):\n",
    "        script_names.append('')\n",
    "    \n",
    "    elif '/' in character:\n",
    "        script_names.append(character.split('/')[0])\n",
    "    \n",
    "    elif ' #' in character:\n",
    "        script_names.append(character.replace(' #','#'))\n",
    "    \n",
    "    elif 'LT. ' in character:\n",
    "        script_names.append(character.replace('LT. ',''))\n",
    "    \n",
    "    elif 'MRS ' in character:\n",
    "        script_names.append(character.replace('MRS ',''))\n",
    "    \n",
    "    elif 'MR ' in character:\n",
    "        script_names.append(character.replace('MR ',''))\n",
    "    \n",
    "    elif 'MR. ' in character:\n",
    "        script_names.append(character.replace('MR. ',''))\n",
    "        \n",
    "    elif 'MRS. ' in character:\n",
    "        script_names.append(character.replace('MRS. ',''))    \n",
    "    \n",
    "    elif 'AUNT ' in character:\n",
    "        script_names.append(character.replace('AUNT ',''))\n",
    "    \n",
    "    elif 'UNCLE ' in character:\n",
    "        script_names.append(character.replace('UNCLE ',''))\n",
    "    \n",
    "    elif 'DR. ' in character:\n",
    "        script_names.append(character.replace('DR. ',''))\n",
    "    \n",
    "    elif ',' in character:\n",
    "        script_names.append(character.split(\",\")[0])\n",
    "        \n",
    "    elif r'(' in character:\n",
    "        script_names.append(character.split('(')[0])\n",
    "    \n",
    "    elif \"'S\" in character:\n",
    "        script_names.append(character)\n",
    "    \n",
    "    else:\n",
    "        script_names.append(character.split(' ')[0])"
   ]
  },
  {
   "cell_type": "code",
   "execution_count": 74,
   "metadata": {},
   "outputs": [],
   "source": [
    "#prepare to set up the df and verify that the lists are the same length\n",
    "script_dict = {\n",
    "    'Character':script_names,\n",
    "    'Dialogue':Dialogue,\n",
    "    'EpisodeNo':EpisodeNo,\n",
    "    'SEID':SEID,\n",
    "    'Season':Season\n",
    "}\n",
    "\n",
    "print(len(SEID))\n",
    "print(len(script_names))\n",
    "print(len(Dialogue))\n",
    "print(len(Season))\n",
    "print(len(EpisodeNo))"
   ]
  },
  {
   "cell_type": "code",
   "execution_count": 80,
   "metadata": {
    "scrolled": true
   },
   "outputs": [],
   "source": [
    "#create the new scripts csv\n",
    "script_df = pd.DataFrame(script_dict)\n",
    "\n",
    "script_df.to_csv('scripts_cleaner.csv')"
   ]
  },
  {
   "cell_type": "code",
   "execution_count": 67,
   "metadata": {
    "scrolled": true
   },
   "outputs": [
    {
     "data": {
      "text/plain": [
       "907"
      ]
     },
     "execution_count": 67,
     "metadata": {},
     "output_type": "execute_result"
    }
   ],
   "source": [
    "#create the list of unique cleaned names to match with actor-character and export to csv\n",
    "unique_script_names = []\n",
    "for name in script_names:\n",
    "    if name.upper() not in unique_script_names:\n",
    "        unique_script_names.append(name.upper())\n",
    "\n",
    "uniques_dict = {\n",
    "    'Unique_script_names':unique_script_names\n",
    "}\n",
    "\n",
    "uniques_df = pd.DataFrame(uniques_dict)\n",
    "\n",
    "uniques_df.to_csv('uniques.csv')"
   ]
  },
  {
   "cell_type": "code",
   "execution_count": null,
   "metadata": {},
   "outputs": [],
   "source": []
  }
 ],
 "metadata": {
  "kernelspec": {
   "display_name": "Python [conda env:.conda-PythonData] *",
   "language": "python",
   "name": "conda-env-.conda-PythonData-py"
  },
  "language_info": {
   "codemirror_mode": {
    "name": "ipython",
    "version": 3
   },
   "file_extension": ".py",
   "mimetype": "text/x-python",
   "name": "python",
   "nbconvert_exporter": "python",
   "pygments_lexer": "ipython3",
   "version": "3.8.5"
  }
 },
 "nbformat": 4,
 "nbformat_minor": 4
}
