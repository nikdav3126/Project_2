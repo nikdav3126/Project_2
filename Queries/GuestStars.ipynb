{
 "cells": [
  {
   "cell_type": "code",
   "execution_count": null,
   "id": "5d31934e",
   "metadata": {},
   "outputs": [],
   "source": [
    "# introduce dependencies\n",
    "import pandas as pd\n",
    "import datetime as dt"
   ]
  },
  {
   "cell_type": "code",
   "execution_count": null,
   "id": "4659717d",
   "metadata": {},
   "outputs": [],
   "source": [
    "# read in csv and convert to dataframe\n",
    "episode_txt = \"../Data/episode_info.txt\"\n",
    "episode_info_df = pd.read_csv(episode_csv, encoding = \"utf-8\")\n",
    "episode_info_df.head()"
   ]
  }
 ],
 "metadata": {
  "kernelspec": {
   "display_name": "Python 3 (ipykernel)",
   "language": "python",
   "name": "python3"
  },
  "language_info": {
   "codemirror_mode": {
    "name": "ipython",
    "version": 3
   },
   "file_extension": ".py",
   "mimetype": "text/x-python",
   "name": "python",
   "nbconvert_exporter": "python",
   "pygments_lexer": "ipython3",
   "version": "3.8.12"
  }
 },
 "nbformat": 4,
 "nbformat_minor": 5
}
