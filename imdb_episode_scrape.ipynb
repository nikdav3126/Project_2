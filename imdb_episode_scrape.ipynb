{
 "cells": [
  {
   "cell_type": "code",
   "execution_count": 2,
   "metadata": {},
   "outputs": [],
   "source": [
    "from bs4 import BeautifulSoup\n",
    "import requests\n",
    "import pymongo\n",
    "import time\n",
    "from splinter import Browser\n",
    "from webdriver_manager.chrome import ChromeDriverManager"
   ]
  },
  {
   "cell_type": "code",
   "execution_count": 3,
   "metadata": {
    "scrolled": false
   },
   "outputs": [
    {
     "name": "stderr",
     "output_type": "stream",
     "text": [
      "\n",
      "\n",
      "====== WebDriver manager ======\n",
      "Could not get version for google-chrome with the command:  powershell \"$ErrorActionPreference='silentlycontinue' ; (Get-Item -Path \"$env:PROGRAMFILES\\Google\\Chrome\\Application\\chrome.exe\").VersionInfo.FileVersion ; if (-not $? -or $? -match $error) { (Get-Item -Path \"$env:PROGRAMFILES(x86)\\Google\\Chrome\\Application\\chrome.exe\").VersionInfo.FileVersion } if (-not $? -or $? -match $error) { (Get-Item -Path \"$env:LOCALAPPDATA\\Google\\Chrome\\Application\\chrome.exe\").VersionInfo.FileVersion } if (-not $? -or $? -match $error) { reg query \"HKCU\\SOFTWARE\\Google\\Chrome\\BLBeacon\" /v version } if (-not $? -or $? -match $error) { reg query \"HKLM\\SOFTWARE\\Wow6432Node\\Microsoft\\Windows\\CurrentVersion\\Uninstall\\Google Chrome\" /v version }\"\n",
      "Current google-chrome version is UNKNOWN\n",
      "Get LATEST chromedriver version for UNKNOWN google-chrome\n",
      "Trying to download new driver from https://chromedriver.storage.googleapis.com/99.0.4844.51/chromedriver_win32.zip\n",
      "Driver has been saved in cache [C:\\Users\\jackc\\.wdm\\drivers\\chromedriver\\win32\\99.0.4844.51]\n"
     ]
    }
   ],
   "source": [
    "# skip\n",
    "executable_path = {'executable_path': ChromeDriverManager().install()}\n",
    "browser = Browser('chrome', **executable_path, headless=False)"
   ]
  },
  {
   "cell_type": "code",
   "execution_count": 78,
   "metadata": {},
   "outputs": [],
   "source": [
    "# skip\n",
    "url = 'https://www.imdb.com/name/nm0001431/?ref_=nv_sr_srsg_0'\n",
    "browser.visit(url)"
   ]
  },
  {
   "cell_type": "code",
   "execution_count": 79,
   "metadata": {},
   "outputs": [],
   "source": [
    "while browser.links.find_by_partial_text('Show all'):\n",
    "    try:\n",
    "        browser.links.find_by_partial_text('Show all').click()\n",
    "        time.sleep(1)\n",
    "    except:\n",
    "        break"
   ]
  },
  {
   "cell_type": "code",
   "execution_count": 80,
   "metadata": {},
   "outputs": [],
   "source": [
    "html = browser.html\n",
    "soup = BeautifulSoup(html, 'html.parser')"
   ]
  },
  {
   "cell_type": "code",
   "execution_count": 81,
   "metadata": {},
   "outputs": [],
   "source": [
    "results = soup.find_all('div', class_='filmo-row')"
   ]
  },
  {
   "cell_type": "code",
   "execution_count": 82,
   "metadata": {},
   "outputs": [],
   "source": [
    "titles = []\n",
    "for result in results:\n",
    "    try:\n",
    "        series_title = result.find(\"a\")\n",
    "        if series_title.text == \"Seinfeld\":\n",
    "            eps = result.find_all(\"a\")\n",
    "            for ep in eps:\n",
    "               titles.append(ep.text)\n",
    "    except AttributeError as e:\n",
    "        print(e)\n"
   ]
  },
  {
   "cell_type": "code",
   "execution_count": 87,
   "metadata": {
    "scrolled": true
   },
   "outputs": [
    {
     "data": {
      "text/plain": [
       "['Seinfeld',\n",
       " 'The Finale',\n",
       " 'The Bookstore',\n",
       " 'The Cartoon',\n",
       " 'The Reverse Peephole',\n",
       " 'The Betrayal',\n",
       " 'The Merv Griffin Show',\n",
       " 'The Junk Mail',\n",
       " 'The Blood',\n",
       " 'The Butter Shave',\n",
       " 'The Muffin Tops',\n",
       " 'The Millennium',\n",
       " 'The Pothole',\n",
       " 'The Andrea Doria',\n",
       " 'The Chicken Roaster',\n",
       " 'The Package',\n",
       " 'The Soul Mate',\n",
       " 'The Bottle Deposit',\n",
       " 'The Calzone',\n",
       " 'The Shower Head',\n",
       " 'The Seven',\n",
       " 'The Pool Guy',\n",
       " 'The Soup Nazi',\n",
       " 'The Engagement',\n",
       " \"The Diplomat's Club\",\n",
       " 'The Doodle',\n",
       " 'The Scofflaw',\n",
       " 'The Label Maker',\n",
       " 'The Switch',\n",
       " 'The Big Salad',\n",
       " 'The Raincoats',\n",
       " 'The Marine Biologist',\n",
       " 'The Barber',\n",
       " 'The Non-Fat Yogurt',\n",
       " 'The Lip Reader',\n",
       " 'The Sniffing Accountant',\n",
       " 'The Pilot',\n",
       " 'The Old Man',\n",
       " 'The Pick',\n",
       " 'The Ticket',\n",
       " 'The Pitch',\n",
       " 'The Keys',\n",
       " 'The Parking Space',\n",
       " 'The Boyfriend',\n",
       " 'The Suicide',\n",
       " 'Show less',\n",
       " 'Seinfeld',\n",
       " 'The Pothole',\n",
       " 'The Bottle Deposit',\n",
       " 'The Engagement']"
      ]
     },
     "execution_count": 87,
     "metadata": {},
     "output_type": "execute_result"
    }
   ],
   "source": [
    "csvline = \",\".join(titles[1:-1])"
   ]
  },
  {
   "cell_type": "code",
   "execution_count": 94,
   "metadata": {},
   "outputs": [
    {
     "data": {
      "text/plain": [
       "\"Wayne Knight,The Finale,The Bookstore,The Cartoon,The Reverse Peephole,The Betrayal,The Merv Griffin Show,The Junk Mail,The Blood,The Butter Shave,The Muffin Tops,The Millennium,The Pothole,The Andrea Doria,The Chicken Roaster,The Package,The Soul Mate,The Bottle Deposit,The Calzone,The Shower Head,The Seven,The Pool Guy,The Soup Nazi,The Engagement,The Diplomat's Club,The Doodle,The Scofflaw,The Label Maker,The Switch,The Big Salad,The Raincoats,The Marine Biologist,The Barber,The Non-Fat Yogurt,The Lip Reader,The Sniffing Accountant,The Pilot,The Old Man,The Pick,The Ticket,The Pitch,The Keys,The Parking Space,The Boyfriend,The Suicide,Show less,Seinfeld,The Pothole,The Bottle Deposit\""
      ]
     },
     "execution_count": 94,
     "metadata": {},
     "output_type": "execute_result"
    }
   ],
   "source": [
    "temp = (\"Wayne Knight,\" + csvline)\n",
    "temp"
   ]
  },
  {
   "cell_type": "code",
   "execution_count": 97,
   "metadata": {},
   "outputs": [],
   "source": [
    "templist = temp.split(',')"
   ]
  },
  {
   "cell_type": "code",
   "execution_count": 102,
   "metadata": {},
   "outputs": [
    {
     "name": "stdout",
     "output_type": "stream",
     "text": [
      "Wayne Knight,The Finale\n",
      "Wayne Knight,The Bookstore\n",
      "Wayne Knight,The Cartoon\n",
      "Wayne Knight,The Reverse Peephole\n",
      "Wayne Knight,The Betrayal\n",
      "Wayne Knight,The Merv Griffin Show\n",
      "Wayne Knight,The Junk Mail\n",
      "Wayne Knight,The Blood\n",
      "Wayne Knight,The Butter Shave\n",
      "Wayne Knight,The Muffin Tops\n",
      "Wayne Knight,The Millennium\n",
      "Wayne Knight,The Pothole\n",
      "Wayne Knight,The Andrea Doria\n",
      "Wayne Knight,The Chicken Roaster\n",
      "Wayne Knight,The Package\n",
      "Wayne Knight,The Soul Mate\n",
      "Wayne Knight,The Bottle Deposit\n",
      "Wayne Knight,The Calzone\n",
      "Wayne Knight,The Shower Head\n",
      "Wayne Knight,The Seven\n",
      "Wayne Knight,The Pool Guy\n",
      "Wayne Knight,The Soup Nazi\n",
      "Wayne Knight,The Engagement\n",
      "Wayne Knight,The Diplomat's Club\n",
      "Wayne Knight,The Doodle\n",
      "Wayne Knight,The Scofflaw\n",
      "Wayne Knight,The Label Maker\n",
      "Wayne Knight,The Switch\n",
      "Wayne Knight,The Big Salad\n",
      "Wayne Knight,The Raincoats\n",
      "Wayne Knight,The Marine Biologist\n",
      "Wayne Knight,The Barber\n",
      "Wayne Knight,The Non-Fat Yogurt\n",
      "Wayne Knight,The Lip Reader\n",
      "Wayne Knight,The Sniffing Accountant\n",
      "Wayne Knight,The Pilot\n",
      "Wayne Knight,The Old Man\n",
      "Wayne Knight,The Pick\n",
      "Wayne Knight,The Ticket\n",
      "Wayne Knight,The Pitch\n",
      "Wayne Knight,The Keys\n",
      "Wayne Knight,The Parking Space\n",
      "Wayne Knight,The Boyfriend\n",
      "Wayne Knight,The Suicide\n",
      "Wayne Knight,Show less\n",
      "Wayne Knight,Seinfeld\n",
      "Wayne Knight,The Pothole\n"
     ]
    }
   ],
   "source": [
    "for i in templist[1:-1]:\n",
    "    print(templist[0] + ',' + i)"
   ]
  },
  {
   "cell_type": "code",
   "execution_count": null,
   "metadata": {},
   "outputs": [],
   "source": []
  }
 ],
 "metadata": {
  "kernelspec": {
   "display_name": "Python 3",
   "language": "python",
   "name": "python3"
  },
  "language_info": {
   "codemirror_mode": {
    "name": "ipython",
    "version": 3
   },
   "file_extension": ".py",
   "mimetype": "text/x-python",
   "name": "python",
   "nbconvert_exporter": "python",
   "pygments_lexer": "ipython3",
   "version": "3.6.10"
  }
 },
 "nbformat": 4,
 "nbformat_minor": 4
}
