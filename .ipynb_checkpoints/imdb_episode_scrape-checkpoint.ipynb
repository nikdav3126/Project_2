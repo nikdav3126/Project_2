{
 "cells": [
  {
   "cell_type": "code",
   "execution_count": 84,
   "metadata": {},
   "outputs": [],
   "source": [
    "from bs4 import BeautifulSoup\n",
    "import requests\n",
    "import pymongo\n",
    "from splinter import Browser\n",
    "from webdriver_manager.chrome import ChromeDriverManager"
   ]
  },
  {
   "cell_type": "code",
   "execution_count": 107,
   "metadata": {
    "scrolled": true
   },
   "outputs": [
    {
     "name": "stderr",
     "output_type": "stream",
     "text": [
      "\n",
      "\n",
      "====== WebDriver manager ======\n",
      "Could not get version for google-chrome with the command:  powershell \"$ErrorActionPreference='silentlycontinue' ; (Get-Item -Path \"$env:PROGRAMFILES\\Google\\Chrome\\Application\\chrome.exe\").VersionInfo.FileVersion ; if (-not $? -or $? -match $error) { (Get-Item -Path \"$env:PROGRAMFILES(x86)\\Google\\Chrome\\Application\\chrome.exe\").VersionInfo.FileVersion } if (-not $? -or $? -match $error) { (Get-Item -Path \"$env:LOCALAPPDATA\\Google\\Chrome\\Application\\chrome.exe\").VersionInfo.FileVersion } if (-not $? -or $? -match $error) { reg query \"HKCU\\SOFTWARE\\Google\\Chrome\\BLBeacon\" /v version } if (-not $? -or $? -match $error) { reg query \"HKLM\\SOFTWARE\\Wow6432Node\\Microsoft\\Windows\\CurrentVersion\\Uninstall\\Google Chrome\" /v version }\"\n",
      "Current google-chrome version is UNKNOWN\n",
      "Get LATEST chromedriver version for UNKNOWN google-chrome\n",
      "Trying to download new driver from https://chromedriver.storage.googleapis.com/99.0.4844.51/chromedriver_win32.zip\n",
      "Driver has been saved in cache [C:\\Users\\jackc\\.wdm\\drivers\\chromedriver\\win32\\99.0.4844.51]\n"
     ]
    }
   ],
   "source": [
    "# skip\n",
    "executable_path = {'executable_path': ChromeDriverManager().install()}\n",
    "browser = Browser('chrome', **executable_path, headless=False)"
   ]
  },
  {
   "cell_type": "code",
   "execution_count": 108,
   "metadata": {},
   "outputs": [],
   "source": [
    "# skip\n",
    "url = 'https://www.imdb.com/name/nm0911320/?ref_=fn_al_nm_1#actor'\n",
    "browser.visit(url)"
   ]
  },
  {
   "cell_type": "code",
   "execution_count": 116,
   "metadata": {},
   "outputs": [
    {
     "data": {
      "text/plain": [
       "<splinter.driver.find_links.FindLinks at 0x20054c03390>"
      ]
     },
     "execution_count": 116,
     "metadata": {},
     "output_type": "execute_result"
    }
   ],
   "source": [
    "# skip\n",
    "browser.links"
   ]
  },
  {
   "cell_type": "code",
   "execution_count": 94,
   "metadata": {},
   "outputs": [],
   "source": [
    "html = 'https://www.imdb.com/name/nm0911320/?ref_=fn_al_nm_1#actor'\n",
    "soup = BeautifulSoup(html, 'html.parser')"
   ]
  },
  {
   "cell_type": "code",
   "execution_count": 95,
   "metadata": {},
   "outputs": [],
   "source": [
    "results = soup.find_all('div', class_='filmo-row')"
   ]
  },
  {
   "cell_type": "code",
   "execution_count": 97,
   "metadata": {},
   "outputs": [
    {
     "name": "stdout",
     "output_type": "stream",
     "text": [
      "<div class=\"filmo-row odd\" id=\"actor-tt0098904\">\n",
      "<span class=\"year_column\">\n",
      " 1995-1998\n",
      "</span>\n",
      "<b><a href=\"/title/tt0098904/?ref_=nm_flmg_act_159\">Seinfeld</a></b>\n",
      "(TV Series)\n",
      "<br/>\n",
      "David Puddy\n",
      "<div class=\"filmo-episodes\">\n",
      "- <a href=\"/title/tt0697695/?ref_=nm_flmg_act_159\">The Finale</a>\n",
      "(1998)\n",
      "... David Puddy\n",
      "</div>\n",
      "<div class=\"filmo-episodes\">\n",
      "- <a href=\"/title/tt0697663/?ref_=nm_flmg_act_159\">The Burning</a>\n",
      "(1998)\n",
      "... David Puddy\n",
      "</div>\n",
      "<div class=\"filmo-episodes\">\n",
      "- <a href=\"/title/tt0697767/?ref_=nm_flmg_act_159\">The Reverse Peephole</a>\n",
      "(1998)\n",
      "... David Puddy\n",
      "</div>\n",
      "<div class=\"filmo-episodes\">\n",
      "- <a href=\"/title/tt0697683/?ref_=nm_flmg_act_159\">The Dealership</a>\n",
      "(1998)\n",
      "... David Puddy\n",
      "</div>\n",
      "<div class=\"filmo-episodes\">\n",
      "- <a href=\"/title/tt0697651/?ref_=nm_flmg_act_159\">The Apology</a>\n",
      "(1997)\n",
      "... David Puddy\n",
      "</div>\n",
      "<div id=\"more-episodes-tt0098904-actor\" style=\"display:none;\">\n",
      "<img src=\"https://m.media-amazon.com/images/S/sash/VPO7nZEEVf68gfL.gif\"/>\n",
      "</div>\n",
      "<div class=\"filmo-episodes\">\n",
      "<a data-n=\"10\" href=\"#\" onclick=\"toggleSeeMoreEpisodes(this,'nm0911320','tt0098904','actor','nm_flmg_act_159_ep_show',5,'blind','#more-episodes-tt0098904-actor',toggleContent); return false;\">Show all 10 episodes</a>\n",
      "</div>\n",
      "</div>\n"
     ]
    }
   ],
   "source": [
    "for result in results:\n",
    "    try:\n",
    "        series_title = result.find(\"a\")\n",
    "        if series_title.text == \"Seinfeld\":\n",
    "            print(result)\n",
    "#             eps = result.find_all(\"a\")\n",
    "#             for ep in eps:\n",
    "#                 print(ep.text)\n",
    "    except AttributeError as e:\n",
    "        print(e)\n"
   ]
  },
  {
   "cell_type": "code",
   "execution_count": null,
   "metadata": {},
   "outputs": [],
   "source": []
  }
 ],
 "metadata": {
  "kernelspec": {
   "display_name": "Python 3",
   "language": "python",
   "name": "python3"
  },
  "language_info": {
   "codemirror_mode": {
    "name": "ipython",
    "version": 3
   },
   "file_extension": ".py",
   "mimetype": "text/x-python",
   "name": "python",
   "nbconvert_exporter": "python",
   "pygments_lexer": "ipython3",
   "version": "3.8.8"
  }
 },
 "nbformat": 4,
 "nbformat_minor": 4
}
